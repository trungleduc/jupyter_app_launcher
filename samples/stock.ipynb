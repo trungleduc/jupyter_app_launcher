{
 "cells": [
  {
   "cell_type": "code",
   "execution_count": null,
   "metadata": {
    "extensions": {
     "jupyter_dashboards": {
      "activeView": "grid_default",
      "views": {
       "grid_default": {
        "col": null,
        "height": 2,
        "hidden": true,
        "locked": true,
        "row": null,
        "width": 2
       }
      }
     }
    }
   },
   "outputs": [],
   "source": [
    "try:\n",
    "    import piplite\n",
    "    await piplite.install(['ipywidgets==7.7.2', 'ipyflex', 'ipyvuetify==1.8.2', 'ipyvue==1.7.0', 'plotly', 'pandas'])\n",
    "except:\n",
    "    pass"
   ]
  },
  {
   "cell_type": "code",
   "execution_count": null,
   "metadata": {
    "extensions": {
     "jupyter_dashboards": {
      "activeView": "grid_default",
      "views": {
       "grid_default": {
        "col": null,
        "height": 2,
        "hidden": true,
        "locked": true,
        "row": null,
        "width": 2
       }
      }
     }
    }
   },
   "outputs": [],
   "source": [
    "from datetime import datetime\n",
    "import ipyvuetify as v\n",
    "import ipywidgets as ipw\n",
    "from ipyflex import FlexLayout\n",
    "import pandas\n",
    "import json"
   ]
  },
  {
   "cell_type": "code",
   "execution_count": null,
   "metadata": {
    "extensions": {
     "jupyter_dashboards": {
      "activeView": "grid_default",
      "views": {
       "grid_default": {
        "col": null,
        "height": 2,
        "hidden": true,
        "locked": true,
        "row": null,
        "width": 2
       }
      }
     }
    }
   },
   "outputs": [],
   "source": [
    "class TickerData:\n",
    "    def __init__(self, ticker: str) -> None:\n",
    "        ticker = ticker.upper()\n",
    "        self.fetch_ticker(ticker)\n",
    "\n",
    "    def fetch_ticker(self, ticker: str):\n",
    "        with open('data.json', 'r') as f:\n",
    "            cache = json.load(f)\n",
    "        self._cached_data = cache.get(ticker, None)\n",
    "        if self._cached_data:\n",
    "            self._info = self._cached_data['data']['info']\n",
    "            self.news = self._cached_data['data']['news']\n",
    "            self._price = pandas.DataFrame.from_dict(self._cached_data['price'])\n",
    "            # self._price.index = [datetime.fromtimestamp(int(x)/1000) for x in self._price.index]\n",
    "            self._balance_sheet = pandas.DataFrame.from_dict(self._cached_data['balance_sheet'])\n",
    "            self._analysis = pandas.DataFrame.from_dict(self._cached_data['analysis'])\n",
    "    @property\n",
    "    def financial_info(self):\n",
    "        data = [\n",
    "            {'title': 'Market cap', 'value': self._info['marketCap']},\n",
    "            {'title': 'PE Ratio', 'value': self._info['forwardPE']},\n",
    "            {'title': 'Total revenue', 'value': self._info['totalRevenue']},\n",
    "            {'title': 'Gross profit', 'value': self._info['grossProfits']},\n",
    "            {'title': 'Debt to equity', 'value': self._info['debtToEquity']},\n",
    "            {'title': 'Profit margin', 'value': self._info['profitMargins']},\n",
    "        ]\n",
    "        return data\n",
    "\n",
    "    def price(self):\n",
    "        return self._price\n",
    "\n",
    "    @property\n",
    "    def balance_sheet(self):\n",
    "        return self._balance_sheet\n",
    "\n",
    "    @property\n",
    "    def analysis(self):\n",
    "        return self._analysis.transpose()\n"
   ]
  },
  {
   "cell_type": "code",
   "execution_count": null,
   "metadata": {
    "extensions": {
     "jupyter_dashboards": {
      "activeView": "grid_default",
      "views": {
       "grid_default": {
        "col": null,
        "height": 2,
        "hidden": true,
        "locked": true,
        "row": null,
        "width": 2
       }
      }
     }
    }
   },
   "outputs": [],
   "source": [
    "\n",
    "from typing import Dict, List\n",
    "import plotly.graph_objects as go\n",
    "from plotly.subplots import make_subplots\n",
    "\n",
    "v.theme.dark = True\n",
    "\n",
    "\n",
    "def new_factory(news: List[Dict]) -> v.Html:\n",
    "    children = []\n",
    "    for new in news:\n",
    "        date = datetime.fromtimestamp(new['providerPublishTime'])\n",
    "        btn = v.Btn(\n",
    "            small=True,\n",
    "            text=True,\n",
    "            block=True,\n",
    "            children=['Open'],\n",
    "            href=new['link'],\n",
    "            target='_blank',\n",
    "        )\n",
    "        card = v.Card(\n",
    "            outlined=True,\n",
    "            children=[\n",
    "                v.CardTitle(\n",
    "                    children=[new['title']],\n",
    "                    style_='font-size: 1.1rem',\n",
    "                ),\n",
    "                v.CardSubtitle(\n",
    "                    children=[\n",
    "                        f'{new[\"publisher\"]} ({date.strftime(\"%m/%d/%Y, %H:%M\")})'\n",
    "                    ]\n",
    "                ),\n",
    "                v.CardActions(children=[btn]),\n",
    "            ],\n",
    "        )\n",
    "        children.append(card)\n",
    "    return v.Html(tag='div', class_='d-flex flex-column', children=children)\n",
    "\n",
    "\n",
    "def financial_info_factory(data: List[Dict], logo_url: str = None) -> v.Html:\n",
    "    children = []\n",
    "    if logo_url is not None:\n",
    "        logo = v.Card(\n",
    "            outlined=True,\n",
    "            class_='ma-1',\n",
    "            children=[v.Img(src=logo_url, height='100px', contain=True)],\n",
    "            style_='width: calc(14.28% - 8px); min-width: 150px',\n",
    "        )\n",
    "        children.append(logo)\n",
    "\n",
    "    for item in data:\n",
    "        card = v.Card(\n",
    "            outlined=True,\n",
    "            class_='ma-1',\n",
    "            children=[\n",
    "                v.CardTitle(\n",
    "                    primary_title=True,\n",
    "                    children=[item['title']],\n",
    "                    style_='font-size: 18px; color: #51ef98',\n",
    "                ),\n",
    "                v.CardText(children=[str(item['value'])]),\n",
    "            ],\n",
    "            style_='width: calc(14.28% - 8px); min-width: 150px',\n",
    "        )\n",
    "        children.append(card)\n",
    "    return v.Html(\n",
    "        tag='div',\n",
    "        class_='d-flex flex-row',\n",
    "        children=children,\n",
    "        style_='flex-wrap: wrap',\n",
    "    )\n",
    "\n",
    "\n",
    "def price_chart_factory(df: List, ticker: str = '') -> ipw.Widget:\n",
    "    # Create figure with secondary y-axis\n",
    "    fig = make_subplots(specs=[[{'secondary_y': True}]])\n",
    "    index = [datetime.fromtimestamp(int(x)/1000).strftime('%m/%d') for x in df.index]\n",
    "    # include candlestick with rangeselector\n",
    "    fig.add_trace(\n",
    "        go.Candlestick(\n",
    "            x=index,\n",
    "            open=df['Open'],\n",
    "            high=df['High'],\n",
    "            low=df['Low'],\n",
    "            close=df['Close'],\n",
    "            name='OHLC',\n",
    "        ),\n",
    "        secondary_y=True,\n",
    "    )\n",
    "    fig.add_trace(\n",
    "        go.Bar(\n",
    "            x=index,\n",
    "            y=df['Volume'],\n",
    "            marker_color='rgba(91, 91, 91, 0.73)',\n",
    "            name='Volume',\n",
    "        ),\n",
    "        secondary_y=False,\n",
    "    )\n",
    "\n",
    "    fig.layout.yaxis2.showgrid = False\n",
    "    fig.update_layout(\n",
    "        autosize=True,\n",
    "        xaxis_rangeslider_visible=False,\n",
    "        template='plotly_dark',\n",
    "        title={\n",
    "            'text': f'{ticker.upper()} PRICE CHART',\n",
    "            'xanchor': 'center',\n",
    "            'yanchor': 'top',\n",
    "            'x': 0.5,\n",
    "        },\n",
    "    )\n",
    "    widget = go.FigureWidget(fig, layout=ipw.Layout(height='100%'))\n",
    "    return widget\n",
    "\n",
    "\n",
    "def price_history_factory(df: List, ticker: str = '') -> ipw.Widget:\n",
    "    # include candlestick with rangeselector\n",
    "    index = [datetime.fromtimestamp(int(x)/1000).strftime('%m/%d') for x in df.index]\n",
    "    widget = go.FigureWidget(go.Scatter(x=index, y=df['Close']))\n",
    "    widget.update_layout(\n",
    "        autosize=True,\n",
    "        template='plotly_dark',\n",
    "        title={\n",
    "            'text': f'{ticker.upper()} PRICE HISTORY',\n",
    "            'xanchor': 'center',\n",
    "            'yanchor': 'top',\n",
    "            'x': 0.5,\n",
    "        },\n",
    "    )\n",
    "    return widget\n",
    "\n",
    "\n",
    "def text_widget(title: str, text: str) -> ipw.Widget:\n",
    "    return v.Card(\n",
    "        outlined=True,\n",
    "        children=[\n",
    "            v.CardTitle(\n",
    "                children=[title],\n",
    "                style_='font-size: 1.1rem',\n",
    "            ),\n",
    "            v.CardText(children=[text]),\n",
    "        ],\n",
    "    )\n",
    "\n",
    "\n",
    "def balance_sheet_factory(df) -> ipw.Widget:\n",
    "    items = []\n",
    "    for i in range(df.shape[0]):\n",
    "        row = df.iloc[i]\n",
    "        item = {'name': row.name}\n",
    "        item.update(json.loads(row.to_json()))\n",
    "        items.append(item)\n",
    "    titles = [x for x in items[0].keys() if x != 'name']\n",
    "    headers = [\n",
    "        {\n",
    "            'text': 'Property',\n",
    "            'align': 'start',\n",
    "            'sortable': False,\n",
    "            'value': 'name',\n",
    "        }\n",
    "    ]\n",
    "    for title in titles:\n",
    "        date = datetime.fromtimestamp(int(title) / 1000)\n",
    "        header = {'text': date.strftime('%m/%d/%Y, %H:%M'), 'value': title}\n",
    "        headers.append(header)\n",
    "    return v.DataTable(\n",
    "        headers=headers,\n",
    "        items=items,\n",
    "    )\n",
    "\n",
    "\n",
    "def analysis_factory(df) -> ipw.Widget:\n",
    "    items = []\n",
    "    for i in range(df.shape[0]):\n",
    "        row = df.iloc[i]\n",
    "        item = {'name': row.name}\n",
    "        item.update(json.loads(row.to_json()))\n",
    "        items.append(item)\n",
    "    titles = [x for x in items[0].keys() if x != 'name']\n",
    "    headers = [\n",
    "        {\n",
    "            'text': 'Property',\n",
    "            'align': 'start',\n",
    "            'sortable': False,\n",
    "            'value': 'name',\n",
    "        }\n",
    "    ]\n",
    "    for title in titles:\n",
    "        header = {'text': title, 'value': title}\n",
    "        headers.append(header)\n",
    "    return v.DataTable(\n",
    "        headers=headers,\n",
    "        items=items,\n",
    "    )\n"
   ]
  },
  {
   "cell_type": "code",
   "execution_count": null,
   "metadata": {
    "extensions": {
     "jupyter_dashboards": {
      "activeView": "grid_default",
      "views": {
       "grid_default": {
        "col": null,
        "height": 2,
        "hidden": true,
        "locked": true,
        "row": null,
        "width": 2
       }
      }
     }
    }
   },
   "outputs": [],
   "source": [
    "editable = False\n",
    "height = \"900px\""
   ]
  },
  {
   "cell_type": "code",
   "execution_count": null,
   "metadata": {
    "extensions": {
     "jupyter_dashboards": {
      "activeView": "grid_default",
      "views": {
       "grid_default": {
        "col": null,
        "height": 2,
        "hidden": true,
        "locked": true,
        "row": null,
        "width": 2
       }
      }
     }
    }
   },
   "outputs": [],
   "source": [
    "ticker_name = \"NVDA\"\n",
    "ticker = TickerData(ticker_name)\n",
    "news = new_factory(ticker.news)\n",
    "info = financial_info_factory(ticker.financial_info, ticker._info[\"logo_url\"])\n",
    "price = price_chart_factory(ticker.price(), ticker_name)\n",
    "history = price_history_factory(ticker.price(), ticker_name)\n",
    "summary = text_widget(\"Business Summary \", ticker._info[\"longBusinessSummary\"])\n",
    "balance_sheet = balance_sheet_factory(ticker.balance_sheet)\n",
    "analysis = analysis_factory(ticker.analysis)\n",
    "widgets = {\n",
    "    \"news\": news,\n",
    "    \"info\": info,\n",
    "    \"price\": price,\n",
    "    \"history\": history,\n",
    "    \"summary\": summary,\n",
    "    \"balance_sheet\": balance_sheet,\n",
    "    \"analysis\": analysis\n",
    "}"
   ]
  },
  {
   "cell_type": "code",
   "execution_count": null,
   "metadata": {
    "extensions": {
     "jupyter_dashboards": {
      "activeView": "grid_default",
      "views": {
       "grid_default": {
        "col": null,
        "height": 2,
        "hidden": true,
        "locked": true,
        "row": null,
        "width": 2
       }
      }
     }
    }
   },
   "outputs": [],
   "source": [
    "w = FlexLayout(\n",
    "    widgets,\n",
    "    style={\"height\": height},\n",
    "    header={\"title\": \"STOCK DASHBOAD\", \"style\": {\"backgroundColor\": \"rgb(53 53 53)\"}, \"buttons\":[\"export\",\"import\"]},\n",
    "    template=\"ticker2.json\",\n",
    "    editable=False,\n",
    ")\n",
    "style = ipw.HTML(\"\"\"<style>.js-plotly-plot {height: 100%;}</style> \"\"\")"
   ]
  },
  {
   "cell_type": "code",
   "execution_count": null,
   "metadata": {
    "extensions": {
     "jupyter_dashboards": {
      "activeView": "grid_default",
      "views": {
       "grid_default": {
        "col": 0,
        "height": 24,
        "hidden": false,
        "locked": true,
        "row": 0,
        "width": 12
       }
      }
     }
    },
    "tags": []
   },
   "outputs": [],
   "source": [
    "w"
   ]
  },
  {
   "cell_type": "code",
   "execution_count": null,
   "metadata": {
    "extensions": {
     "jupyter_dashboards": {
      "activeView": "grid_default",
      "views": {
       "grid_default": {
        "col": null,
        "height": 2,
        "hidden": true,
        "locked": true,
        "row": null,
        "width": 2
       }
      }
     }
    },
    "tags": []
   },
   "outputs": [],
   "source": []
  }
 ],
 "metadata": {
  "extensions": {
   "jupyter_dashboards": {
    "activeView": "grid_default",
    "version": 1,
    "views": {
     "grid_default": {
      "cellMargin": 2,
      "defaultCellHeight": 40,
      "maxColumns": 12,
      "name": "grid",
      "type": "grid"
     }
    }
   }
  },
  "kernelspec": {
   "display_name": "Python 3 (ipykernel)",
   "language": "python",
   "name": "python3"
  },
  "language_info": {
   "codemirror_mode": {
    "name": "ipython",
    "version": 3
   },
   "file_extension": ".py",
   "mimetype": "text/x-python",
   "name": "python",
   "nbconvert_exporter": "python",
   "pygments_lexer": "ipython3",
   "version": "3.10.6"
  },
  "vscode": {
   "interpreter": {
    "hash": "185c460d523eefc55d6b39dbbc1977f00a990069d85a8be858709cefa84b6425"
   }
  }
 },
 "nbformat": 4,
 "nbformat_minor": 4
}
